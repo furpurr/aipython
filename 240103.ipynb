{
  "nbformat": 4,
  "nbformat_minor": 0,
  "metadata": {
    "colab": {
      "provenance": [],
      "authorship_tag": "ABX9TyMWEawXt3YZYUKDbvshF5fP",
      "include_colab_link": true
    },
    "kernelspec": {
      "name": "python3",
      "display_name": "Python 3"
    },
    "language_info": {
      "name": "python"
    }
  },
  "cells": [
    {
      "cell_type": "markdown",
      "metadata": {
        "id": "view-in-github",
        "colab_type": "text"
      },
      "source": [
        "<a href=\"https://colab.research.google.com/github/furpurr/aipython/blob/main/240103.ipynb\" target=\"_parent\"><img src=\"https://colab.research.google.com/assets/colab-badge.svg\" alt=\"Open In Colab\"/></a>"
      ]
    },
    {
      "cell_type": "code",
      "execution_count": 1,
      "metadata": {
        "colab": {
          "base_uri": "https://localhost:8080/"
        },
        "id": "mYq2dTSsif4u",
        "outputId": "51e26bf9-7474-4e98-d4b6-0dcc81370670"
      },
      "outputs": [
        {
          "output_type": "stream",
          "name": "stdout",
          "text": [
            "*\n",
            "**\n",
            "***\n",
            "****\n",
            "*****\n",
            "******\n",
            "*******\n",
            "********\n"
          ]
        }
      ],
      "source": [
        "# 예제\n",
        "\n",
        "BASE_SIZE = 8\n",
        "for r in range(BASE_SIZE):\n",
        "    for c in range(r + 1):\n",
        "        print('*', end='')\n",
        "    print()"
      ]
    },
    {
      "cell_type": "code",
      "source": [
        "# 역순의 출력\n",
        "\n",
        "BASE_SIZE = 8\n",
        "for r in range(BASE_SIZE):\n",
        "    for c in range(BASE_SIZE - r):\n",
        "        print('*', end='')\n",
        "    print()"
      ],
      "metadata": {
        "colab": {
          "base_uri": "https://localhost:8080/"
        },
        "id": "UCtBYBgijEqD",
        "outputId": "b89b26c8-32e2-417f-d60f-71eb24054691"
      },
      "execution_count": 2,
      "outputs": [
        {
          "output_type": "stream",
          "name": "stdout",
          "text": [
            "********\n",
            "*******\n",
            "******\n",
            "*****\n",
            "****\n",
            "***\n",
            "**\n",
            "*\n"
          ]
        }
      ]
    },
    {
      "cell_type": "code",
      "source": [],
      "metadata": {
        "id": "Uuvv6CsbjZm7"
      },
      "execution_count": null,
      "outputs": []
    }
  ]
}
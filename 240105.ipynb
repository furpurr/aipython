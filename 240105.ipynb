{
  "nbformat": 4,
  "nbformat_minor": 0,
  "metadata": {
    "colab": {
      "provenance": [],
      "authorship_tag": "ABX9TyPbTfu2MZCktsIxGxwA7395",
      "include_colab_link": true
    },
    "kernelspec": {
      "name": "python3",
      "display_name": "Python 3"
    },
    "language_info": {
      "name": "python"
    }
  },
  "cells": [
    {
      "cell_type": "markdown",
      "metadata": {
        "id": "view-in-github",
        "colab_type": "text"
      },
      "source": [
        "<a href=\"https://colab.research.google.com/github/furpurr/aipython/blob/main/240105.ipynb\" target=\"_parent\"><img src=\"https://colab.research.google.com/assets/colab-badge.svg\" alt=\"Open In Colab\"/></a>"
      ]
    },
    {
      "cell_type": "code",
      "source": [
        "data = \"John,30,Engineer\\nAlice,25,Designer\\nBob,22,Artist\"\n",
        "lines = data.split(\"\\n\")\n",
        "for line in lines:\n",
        "    fields = line.split(\",\")\n",
        "    print(\"Name:\", fields[0], \"Age:\", fields[1], \"Occupation:\", fields[2])"
      ],
      "metadata": {
        "colab": {
          "base_uri": "https://localhost:8080/"
        },
        "id": "sOx8SpRGmHsM",
        "outputId": "26ca2af8-015d-437e-eb57-5efc47710ed2"
      },
      "execution_count": 2,
      "outputs": [
        {
          "output_type": "stream",
          "name": "stdout",
          "text": [
            "Name: John Age: 30 Occupation: Engineer\n",
            "Name: Alice Age: 25 Occupation: Designer\n",
            "Name: Bob Age: 22 Occupation: Artist\n"
          ]
        }
      ]
    },
    {
      "cell_type": "code",
      "source": [
        "words = ['hello', 'world', 'this', 'is', 'a', 'test']\n",
        "sentence = ' '.join(words) # 난 이게 왜 words.join(' ') 이런식이 되어야하는게 아닌지 궁금하다\n",
        "print(sentence)"
      ],
      "metadata": {
        "colab": {
          "base_uri": "https://localhost:8080/"
        },
        "id": "eZvb7XfmopUZ",
        "outputId": "4eca37cd-9af8-4243-8d40-218000c7a226"
      },
      "execution_count": 3,
      "outputs": [
        {
          "output_type": "stream",
          "name": "stdout",
          "text": [
            "hello world this is a test\n"
          ]
        }
      ]
    },
    {
      "cell_type": "code",
      "source": [
        "data = input(\"띄어쓰기로 구분해서 문자를 넣으면 list로 만들어줌\")\n",
        "lines = data.split(\" \")\n",
        "print(lines)"
      ],
      "metadata": {
        "colab": {
          "base_uri": "https://localhost:8080/"
        },
        "id": "hB31w_vrorKK",
        "outputId": "4ecc4b12-61d1-4ad5-927d-57334fa28337"
      },
      "execution_count": 4,
      "outputs": [
        {
          "output_type": "stream",
          "name": "stdout",
          "text": [
            "띄어쓰기로 구분해서 문자를 넣으면 list로 만들어줌1 2 3\n",
            "['1', '2', '3']\n"
          ]
        }
      ]
    },
    {
      "cell_type": "code",
      "source": [
        "data = ['Geeks', 'for', 'Geeks'] # 이거 input으로 입력받도록 해보기\n",
        "output = \"-\".join(data) # 이거 왜 data.join(\"-\")가 아닐까 # 목적이 되는것이 괄호안에 들어가야 해서?\n",
        "print(output)"
      ],
      "metadata": {
        "colab": {
          "base_uri": "https://localhost:8080/"
        },
        "id": "cSEfjVUeosRW",
        "outputId": "5cce06c8-2f0b-4d51-afe7-35a53879ae93"
      },
      "execution_count": 5,
      "outputs": [
        {
          "output_type": "stream",
          "name": "stdout",
          "text": [
            "Geeks-for-Geeks\n"
          ]
        }
      ]
    },
    {
      "cell_type": "code",
      "source": [
        "squares = [x**2 for x in range(5) if x%2==0]\n",
        "print(squares) # [0, 4, 16]"
      ],
      "metadata": {
        "colab": {
          "base_uri": "https://localhost:8080/"
        },
        "id": "ec2I-mGSovXH",
        "outputId": "77fb2892-c3c1-44a7-c932-20bbb0909ec4"
      },
      "execution_count": 6,
      "outputs": [
        {
          "output_type": "stream",
          "name": "stdout",
          "text": [
            "[0, 4, 16]\n"
          ]
        }
      ]
    },
    {
      "cell_type": "code",
      "source": [
        "list = [x**2 for x in range(1, 21) if x%3==0]\n",
        "print(list)"
      ],
      "metadata": {
        "colab": {
          "base_uri": "https://localhost:8080/"
        },
        "id": "DE9XI8nto2fL",
        "outputId": "73032277-883e-4bac-aeb6-46f9382b8d16"
      },
      "execution_count": 7,
      "outputs": [
        {
          "output_type": "stream",
          "name": "stdout",
          "text": [
            "[9, 36, 81, 144, 225, 324]\n"
          ]
        }
      ]
    },
    {
      "cell_type": "code",
      "source": [
        "# List 생성 방법 # 궁금한것: 왜 \"\"로 str 저장했는데 output에는 ''로 묶이나\n",
        "\n",
        "input = [\"Seoul\", \"New York\", \"London\", \"Shanghai\", \"Paris\", \"Tokyo\"]\n",
        "output = [x for x in input if x[0]==\"S\"] # 처음엔 input[x][0]이라고 했었는데, 이게 잘못된걸 알았다. 한번더 생각해보기.\n",
        "print(output)\n",
        "\n",
        "# 다른방법 (append 메소드) 사용해서 해보기."
      ],
      "metadata": {
        "colab": {
          "base_uri": "https://localhost:8080/"
        },
        "id": "LM-LxpV7o3wT",
        "outputId": "721b36f5-d07f-4a1a-b495-bfe825e55138"
      },
      "execution_count": 8,
      "outputs": [
        {
          "output_type": "stream",
          "name": "stdout",
          "text": [
            "['Seoul', 'Shanghai']\n"
          ]
        }
      ]
    },
    {
      "cell_type": "code",
      "source": [
        "# 사용자 함수 정의\n",
        "\n",
        "def add(x,y):\n",
        "    return x+y"
      ],
      "metadata": {
        "id": "ApYzPp6Vo4_8"
      },
      "execution_count": 9,
      "outputs": []
    },
    {
      "cell_type": "code",
      "source": [
        "# lambda 함수 정의: 함수명 지정하지 않고 일단 쓴다음 그 함수가 사용된 변수명을 지정해서 사용.\n",
        "\n",
        "add=lambda x,y: x+y\n",
        "print(add(5,5))\n",
        "\n",
        "# 근데 이렇게하면, 결국 add를 사용할때 ()안에 뭔가를 넣어줘야 되는데 add 자체가 변수가 아니라 함수가 되는게 아닌가? def한거랑 결국 뭐가 다르지?"
      ],
      "metadata": {
        "id": "fWfE2DEHo6tQ"
      },
      "execution_count": null,
      "outputs": []
    }
  ]
}
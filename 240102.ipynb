{
  "nbformat": 4,
  "nbformat_minor": 0,
  "metadata": {
    "colab": {
      "provenance": [],
      "authorship_tag": "ABX9TyPk406va4mePCh9F5cgfyQp",
      "include_colab_link": true
    },
    "kernelspec": {
      "name": "python3",
      "display_name": "Python 3"
    },
    "language_info": {
      "name": "python"
    }
  },
  "cells": [
    {
      "cell_type": "markdown",
      "metadata": {
        "id": "view-in-github",
        "colab_type": "text"
      },
      "source": [
        "<a href=\"https://colab.research.google.com/github/furpurr/aipython/blob/main/240102.ipynb\" target=\"_parent\"><img src=\"https://colab.research.google.com/assets/colab-badge.svg\" alt=\"Open In Colab\"/></a>"
      ]
    },
    {
      "cell_type": "code",
      "source": [
        "# 하나의 변수 활용하는 코드\n",
        "Lab=105\n",
        "print('우리가 수업하는 실습실:')\n",
        "print(Lab)"
      ],
      "metadata": {
        "colab": {
          "base_uri": "https://localhost:8080/"
        },
        "id": "5WjeeNKjEL-L",
        "outputId": "5a067950-4aa8-4bd2-f65c-1afca20bb226"
      },
      "execution_count": 2,
      "outputs": [
        {
          "output_type": "stream",
          "name": "stdout",
          "text": [
            "우리가 수업하는 실습실:\n",
            "105\n"
          ]
        }
      ]
    },
    {
      "cell_type": "code",
      "source": [
        "# 하나의 변수 활용하는 코드\n",
        "Lab=105\n",
        "print('우리가 수업하는 실습실:', Lab)"
      ],
      "metadata": {
        "colab": {
          "base_uri": "https://localhost:8080/"
        },
        "id": "EXc4RJNrEwCL",
        "outputId": "624b7054-c8d5-4b78-ad59-42c8fede3775"
      },
      "execution_count": 5,
      "outputs": [
        {
          "output_type": "stream",
          "name": "stdout",
          "text": [
            "우리가 수업하는 실습실: 105\n"
          ]
        }
      ]
    },
    {
      "cell_type": "code",
      "source": [
        "# 변수 두 개 생성하고 값 할당\n",
        "my_id = 201923160\n",
        "grade = 3\n",
        "\n",
        "# 두 개의 변수에 할당된 값 출력\n",
        "print('나의 학번:')\n",
        "print(my_id)\n",
        "print('학년:')\n",
        "print(grade)"
      ],
      "metadata": {
        "colab": {
          "base_uri": "https://localhost:8080/"
        },
        "id": "-RACC01CE8Yu",
        "outputId": "7450a9b1-8708-4e5b-fdce-89ce45a40de7"
      },
      "execution_count": 6,
      "outputs": [
        {
          "output_type": "stream",
          "name": "stdout",
          "text": [
            "나의 학번:\n",
            "201923160\n",
            "학년:\n",
            "3\n"
          ]
        }
      ]
    },
    {
      "cell_type": "code",
      "source": [
        "# 변수에 값을 할당하고 출력하는 예제\n",
        "# dollars 변수에 값을 할당\n",
        "dollars = 2.75\n",
        "print('I have', dollars, 'in my account')\n",
        "\n",
        "# dollars 변수에 새로운 값을 할당\n",
        "dollars = 99.95\n",
        "print('Now I have', dollars, 'in my account!') # 문법이 잘못되어 수정함"
      ],
      "metadata": {
        "colab": {
          "base_uri": "https://localhost:8080/"
        },
        "id": "gscPaYZAFN7u",
        "outputId": "8fe3307b-90f3-41e5-afff-7d10899aaa55"
      },
      "execution_count": 7,
      "outputs": [
        {
          "output_type": "stream",
          "name": "stdout",
          "text": [
            "I have 2.75 in my account\n",
            "Now I have 99.95 in my account!\n"
          ]
        }
      ]
    },
    {
      "cell_type": "code",
      "source": [
        "# 두 개의 변수를 생성하고 문자열 할당\n",
        "department = '재료공학부'\n",
        "name = '이동휘'\n",
        "\n",
        "# 각 변수에 할당된 문자열 값 출력\n",
        "print(department, name)"
      ],
      "metadata": {
        "colab": {
          "base_uri": "https://localhost:8080/"
        },
        "id": "c15e86KMF-aO",
        "outputId": "3ba80125-3495-4b94-da1a-c58bfd61abc1"
      },
      "execution_count": 8,
      "outputs": [
        {
          "output_type": "stream",
          "name": "stdout",
          "text": [
            "재료공학부 이동휘\n"
          ]
        }
      ]
    },
    {
      "cell_type": "code",
      "source": [
        "# 학과명 입력받기\n",
        "department = input('학과명: ')\n",
        "\n",
        "# 이름 입력받기\n",
        "name = input('성명: ')\n",
        "\n",
        "# 두 변수의 값을 출력\n",
        "print('안녕하세요', department, name)"
      ],
      "metadata": {
        "colab": {
          "base_uri": "https://localhost:8080/"
        },
        "id": "Y2ZQZ7HHGHgy",
        "outputId": "bba22012-4e13-432f-deeb-1311780f92ad"
      },
      "execution_count": 9,
      "outputs": [
        {
          "output_type": "stream",
          "name": "stdout",
          "text": [
            "학과명: 재료공학부\n",
            "성명: 이동휘\n",
            "안녕하세요 재료공학부 이동휘\n"
          ]
        }
      ]
    },
    {
      "cell_type": "code",
      "source": [
        "# 여러분의 이름, 나이, 통학시간 정보를 입력받습니다.\n",
        "\n",
        "name = input('당신의 이름은 무엇입니까? ')\n",
        "age = int(input('나이는 어떻게 되시나요? '))\n",
        "attending_time = float(input('통학시간은 얼마나 걸립니까? '))\n",
        "\n",
        "# 변수에 입력된 데이터를 출력해봅시다.\n",
        "\n",
        "print('입력 정보는 다음과 같습니다.')\n",
        "print('이름:', name)\n",
        "print('나이:', age)\n",
        "print('통학시간:', attending_time)"
      ],
      "metadata": {
        "colab": {
          "base_uri": "https://localhost:8080/"
        },
        "id": "dmccOvI4GVXj",
        "outputId": "eb77a7e9-5a09-4f60-abfe-37de5ecfe897"
      },
      "execution_count": 13,
      "outputs": [
        {
          "output_type": "stream",
          "name": "stdout",
          "text": [
            "당신의 이름은 무엇입니까? 이동휘\n",
            "나이는 어떻게 되시나요? 26\n",
            "통학시간은 얼마나 걸립니까? 20\n",
            "입력 정보는 다음과 같습니다.\n",
            "이름: 이동휘\n",
            "나이: 26\n",
            "통학시간: 20.0\n"
          ]
        }
      ]
    },
    {
      "cell_type": "code",
      "source": [
        "# salary 변수에 급여 할당\n",
        "salary = 2500.0\n",
        "\n",
        "# bonus 변수에 보너스를 할당\n",
        "bonus = 1200.0\n",
        "\n",
        "# 급여와 보너스를 더하여 총 급여를 구함\n",
        "# 총 급여를 pay 변수에 할당\n",
        "\n",
        "pay = salary + bonus\n",
        "\n",
        "# 총 급여를 출력\n",
        "print('총 급여:', pay)"
      ],
      "metadata": {
        "colab": {
          "base_uri": "https://localhost:8080/"
        },
        "id": "kMGwnG_-Hgo_",
        "outputId": "0e12c0b8-e73c-4a8f-c0d1-3aa4b2272df5"
      },
      "execution_count": 14,
      "outputs": [
        {
          "output_type": "stream",
          "name": "stdout",
          "text": [
            "총 급여: 3700.0\n"
          ]
        }
      ]
    },
    {
      "cell_type": "code",
      "source": [
        "# 원가에 할인율을 적용하여 할인가격 계산하기.\n",
        "\n",
        "# original_price 변수에 원가를 입력받음\n",
        "original_price = float(input(\"제품의 원가를 입력해주세요: \"))\n",
        "\n",
        "# 원가에 할인율 20%를 적용하여 할인가를 계산, discount 변수에 할당한다.\n",
        "discount = original_price*0.2\n",
        "\n",
        "# 원가에 할인가가 적용된 제품 가격을 계산하여, sale_price 변수에 할당한다ㅣ\n",
        "sale_price = original_price - discount\n",
        "\n",
        "# 할인가가 적용된 제품 가격을 출력한다.\n",
        "print('할인가격:', sale_price)"
      ],
      "metadata": {
        "colab": {
          "base_uri": "https://localhost:8080/"
        },
        "id": "XM25wwM3JkxE",
        "outputId": "93cd94dc-8dca-468c-fe48-5f17f8d8c265"
      },
      "execution_count": 17,
      "outputs": [
        {
          "output_type": "stream",
          "name": "stdout",
          "text": [
            "제품의 원가를 입력해주세요: 100.00\n",
            "할인가격: 80.0\n"
          ]
        }
      ]
    },
    {
      "cell_type": "code",
      "source": [
        "# 세 과목의 평가점수를 입력받고 test1, test2, test3 변수에 각각 할당\n",
        "test1 = float(input('첫 번째 과목 점수를 입력해 주세요: '))\n",
        "test2 = float(input('두 번째 과목 점수를 입력해 주세요: '))\n",
        "test3 = float(input('세 번째 과목 점수를 입력해 주세요: '))\n",
        "\n",
        "# 각 과목 점수 평균을 계산하고 결과값을 average 변수에 할당\n",
        "\n",
        "average = (test1+test2+test3)/3.0\n",
        "\n",
        "# 점수 평균 출력\n",
        "print('3과목의 평균 점수: ', average)"
      ],
      "metadata": {
        "colab": {
          "base_uri": "https://localhost:8080/"
        },
        "id": "q6FlxrotKBc5",
        "outputId": "df3e0f49-2ea2-4d5a-e045-6ea4672da9d7"
      },
      "execution_count": 23,
      "outputs": [
        {
          "output_type": "stream",
          "name": "stdout",
          "text": [
            "첫 번째 과목 점수를 입력해 주세요: 90\n",
            "두 번째 과목 점수를 입력해 주세요: 80\n",
            "세 번째 과목 점수를 입력해 주세요: 100\n",
            "3과목의 평균 점수:  90.0\n"
          ]
        }
      ]
    },
    {
      "cell_type": "code",
      "source": [
        "# 초를 입력받아 시, 분, 초로 변환하는 프로그램.\n",
        "# 초 값을 입력받아 total_seconds 변수에 할당함.\n",
        "total_seconds = float(input('시간 값을 초 단위로 입력해주세요...'))\n",
        "\n",
        "# 시간, 분, 초를 계산하여 변수에 할당\n",
        "hours = (total_seconds // 3600)\n",
        "minutes = (total_seconds // 60) % 60\n",
        "seconds = total_seconds % 60\n",
        "\n",
        "print('시, 분, 초는 다음과 같습니다.')\n",
        "print('시:',hours)\n",
        "print('분:',minutes)\n",
        "print('초:',seconds)"
      ],
      "metadata": {
        "colab": {
          "base_uri": "https://localhost:8080/"
        },
        "id": "irQQEKyAKflk",
        "outputId": "7473eb59-e78a-4699-b225-f8faee398127"
      },
      "execution_count": 24,
      "outputs": [
        {
          "output_type": "stream",
          "name": "stdout",
          "text": [
            "시간 값을 초 단위로 입력해주세요...11730\n",
            "시, 분, 초는 다음과 같습니다.\n",
            "시: 3.0\n",
            "분: 15.0\n",
            "초: 30.0\n"
          ]
        }
      ]
    },
    {
      "cell_type": "code",
      "source": [
        "future_value = float(input('목표 금액을 입력해주세요: '))\n",
        "rate = float(input('연간 이율을 입력해주세요: '))\n",
        "years = int(input('저축 기간을 연 단위로 입력해주세요: '))\n",
        "present_value = future_value / (1.0+rate)**years\n",
        "print('적립 금액:', present_value)"
      ],
      "metadata": {
        "colab": {
          "base_uri": "https://localhost:8080/"
        },
        "id": "A4T6HD2DMFyj",
        "outputId": "01367d84-b57b-4e4c-d1f8-15b202cefd40"
      },
      "execution_count": 25,
      "outputs": [
        {
          "output_type": "stream",
          "name": "stdout",
          "text": [
            "목표 금액을 입력해주세요: 10000.0\n",
            "연간 이율을 입력해주세요: 0.05\n",
            "저축 기간을 연 단위로 입력해주세요: 10\n",
            "적립 금액: 6139.132535407592\n"
          ]
        }
      ]
    },
    {
      "cell_type": "code",
      "source": [
        "print('a','b','c')\n",
        "print('a','b','c',sep='')\n",
        "print('a','b','c',sep='***')"
      ],
      "metadata": {
        "colab": {
          "base_uri": "https://localhost:8080/"
        },
        "id": "NJLJ77J3NJUf",
        "outputId": "993b08e6-4e37-406f-bce3-599df31e3a6e"
      },
      "execution_count": 27,
      "outputs": [
        {
          "output_type": "stream",
          "name": "stdout",
          "text": [
            "a b c\n",
            "abc\n",
            "a***b***c\n"
          ]
        }
      ]
    },
    {
      "cell_type": "code",
      "source": [
        "print('a')\n",
        "print('b')\n",
        "print('c', end='')\n",
        "print('d', end='')\n",
        "print('e', end='***')\n",
        "print('f')"
      ],
      "metadata": {
        "colab": {
          "base_uri": "https://localhost:8080/"
        },
        "id": "s4J_62m7NWqo",
        "outputId": "6d4ec3db-61e2-4470-fd13-9c7f8e3cc8c8"
      },
      "execution_count": 28,
      "outputs": [
        {
          "output_type": "stream",
          "name": "stdout",
          "text": [
            "a\n",
            "b\n",
            "cde***f\n"
          ]
        }
      ]
    },
    {
      "cell_type": "code",
      "source": [
        "amount_due = 5000.0\n",
        "monthly_payment = amount_due / 12.0\n",
        "print('월급여: ', monthly_payment)"
      ],
      "metadata": {
        "colab": {
          "base_uri": "https://localhost:8080/"
        },
        "id": "KW3DrNZMNZRt",
        "outputId": "e97416ae-7d73-4093-d9fa-8ecf2faff497"
      },
      "execution_count": 29,
      "outputs": [
        {
          "output_type": "stream",
          "name": "stdout",
          "text": [
            "월급여:  416.6666666666667\n"
          ]
        }
      ]
    },
    {
      "cell_type": "code",
      "source": [
        "amount_due = 5000.0\n",
        "monthly_payment = amount_due / 12\n",
        "print('월급여: ', format(monthly_payment, '.2f'))"
      ],
      "metadata": {
        "colab": {
          "base_uri": "https://localhost:8080/"
        },
        "id": "EPe3uEDCNcUH",
        "outputId": "f35eaeed-6b3a-42e8-b9ed-4d66a7b31636"
      },
      "execution_count": 30,
      "outputs": [
        {
          "output_type": "stream",
          "name": "stdout",
          "text": [
            "월급여:  416.67\n"
          ]
        }
      ]
    },
    {
      "cell_type": "code",
      "source": [
        "monthly_pay = 5000.0\n",
        "annual_pay = monthly_pay * 12\n",
        "print(\"Your annual pay is $\", format(annual_pay, ',.2f'), sep='')"
      ],
      "metadata": {
        "colab": {
          "base_uri": "https://localhost:8080/"
        },
        "id": "7m85W-rKNeNR",
        "outputId": "e08e9207-c40b-4495-dea4-6ffe0865346b"
      },
      "execution_count": 32,
      "outputs": [
        {
          "output_type": "stream",
          "name": "stdout",
          "text": [
            "Your annual pay is $60,000.00\n"
          ]
        }
      ]
    },
    {
      "cell_type": "code",
      "source": [
        "num1 = 127.899\n",
        "num2 = 3465.148\n",
        "num3 = 3.776\n",
        "num4 = 264.821\n",
        "num5 = 88.081\n",
        "num6 = 799.999\n",
        "\n",
        "print(format(num1, '7.2f'))\n",
        "print(format(num2, '7.2f'))\n",
        "print(format(num3, '7.2f'))\n",
        "print(format(num4, '7.2f'))\n",
        "print(format(num5, '7.2f'))\n",
        "print(format(num6, '7.2f'))"
      ],
      "metadata": {
        "colab": {
          "base_uri": "https://localhost:8080/"
        },
        "id": "w_Zf7cMJNs_X",
        "outputId": "22c5da60-18d5-4c8b-cda9-03328f759859"
      },
      "execution_count": 34,
      "outputs": [
        {
          "output_type": "stream",
          "name": "stdout",
          "text": [
            " 127.90\n",
            "3465.15\n",
            "   3.78\n",
            " 264.82\n",
            "  88.08\n",
            " 800.00\n"
          ]
        }
      ]
    }
  ]
}
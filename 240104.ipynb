{
  "nbformat": 4,
  "nbformat_minor": 0,
  "metadata": {
    "colab": {
      "provenance": [],
      "authorship_tag": "ABX9TyMuQsFRmgqc0kDEkullOsz8",
      "include_colab_link": true
    },
    "kernelspec": {
      "name": "python3",
      "display_name": "Python 3"
    },
    "language_info": {
      "name": "python"
    }
  },
  "cells": [
    {
      "cell_type": "markdown",
      "metadata": {
        "id": "view-in-github",
        "colab_type": "text"
      },
      "source": [
        "<a href=\"https://colab.research.google.com/github/furpurr/aipython/blob/main/240104.ipynb\" target=\"_parent\"><img src=\"https://colab.research.google.com/assets/colab-badge.svg\" alt=\"Open In Colab\"/></a>"
      ]
    },
    {
      "cell_type": "code",
      "execution_count": null,
      "metadata": {
        "id": "aN8bc8OBcv4h"
      },
      "outputs": [],
      "source": [
        "# 예외처리를 통한 더 개괄적인 방법\n",
        "\n",
        "score = []\n",
        "while True:\n",
        "    try:\n",
        "        num = int(input(\"학생의 점수를 입력하세요: \"))\n",
        "        score.append(num)\n",
        "    except ValueError:\n",
        "        break\n",
        "\n",
        "total = sum(score)\n",
        "count = len(score)\n",
        "average = total / count\n",
        "\n",
        "print(\"입력 데이터 출력:\", score)\n",
        "print(\"합계:\", total)\n",
        "print(\"인원수:\", count)\n",
        "print(\"평균:%.3f\"%average)"
      ]
    }
  ]
}